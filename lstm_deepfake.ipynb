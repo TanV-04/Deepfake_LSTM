{
  "nbformat": 4,
  "nbformat_minor": 0,
  "metadata": {
    "colab": {
      "provenance": [],
      "gpuType": "T4",
      "include_colab_link": true
    },
    "kernelspec": {
      "name": "python3",
      "display_name": "Python 3"
    },
    "language_info": {
      "name": "python"
    },
    "accelerator": "GPU"
  },
  "cells": [
    {
      "cell_type": "markdown",
      "metadata": {
        "id": "view-in-github",
        "colab_type": "text"
      },
      "source": [
        "<a href=\"https://colab.research.google.com/github/TanV-04/Deepfake_LSTM/blob/main/lstm_deepfake.ipynb\" target=\"_parent\"><img src=\"https://colab.research.google.com/assets/colab-badge.svg\" alt=\"Open In Colab\"/></a>"
      ]
    },
    {
      "cell_type": "code",
      "source": [
        "pip install numpy pandas tensorflow opencv-python matplotlib scikit-learn\n"
      ],
      "metadata": {
        "colab": {
          "base_uri": "https://localhost:8080/"
        },
        "id": "vWU-igpjaVtm",
        "outputId": "995e003f-20dc-4d80-ce92-42ba5c29ff5d"
      },
      "execution_count": 1,
      "outputs": [
        {
          "output_type": "stream",
          "name": "stdout",
          "text": [
            "Requirement already satisfied: numpy in /usr/local/lib/python3.10/dist-packages (1.26.4)\n",
            "Requirement already satisfied: pandas in /usr/local/lib/python3.10/dist-packages (2.2.2)\n",
            "Requirement already satisfied: tensorflow in /usr/local/lib/python3.10/dist-packages (2.17.1)\n",
            "Requirement already satisfied: opencv-python in /usr/local/lib/python3.10/dist-packages (4.10.0.84)\n",
            "Requirement already satisfied: matplotlib in /usr/local/lib/python3.10/dist-packages (3.8.0)\n",
            "Requirement already satisfied: scikit-learn in /usr/local/lib/python3.10/dist-packages (1.6.0)\n",
            "Requirement already satisfied: python-dateutil>=2.8.2 in /usr/local/lib/python3.10/dist-packages (from pandas) (2.8.2)\n",
            "Requirement already satisfied: pytz>=2020.1 in /usr/local/lib/python3.10/dist-packages (from pandas) (2024.2)\n",
            "Requirement already satisfied: tzdata>=2022.7 in /usr/local/lib/python3.10/dist-packages (from pandas) (2024.2)\n",
            "Requirement already satisfied: absl-py>=1.0.0 in /usr/local/lib/python3.10/dist-packages (from tensorflow) (1.4.0)\n",
            "Requirement already satisfied: astunparse>=1.6.0 in /usr/local/lib/python3.10/dist-packages (from tensorflow) (1.6.3)\n",
            "Requirement already satisfied: flatbuffers>=24.3.25 in /usr/local/lib/python3.10/dist-packages (from tensorflow) (24.3.25)\n",
            "Requirement already satisfied: gast!=0.5.0,!=0.5.1,!=0.5.2,>=0.2.1 in /usr/local/lib/python3.10/dist-packages (from tensorflow) (0.6.0)\n",
            "Requirement already satisfied: google-pasta>=0.1.1 in /usr/local/lib/python3.10/dist-packages (from tensorflow) (0.2.0)\n",
            "Requirement already satisfied: h5py>=3.10.0 in /usr/local/lib/python3.10/dist-packages (from tensorflow) (3.12.1)\n",
            "Requirement already satisfied: libclang>=13.0.0 in /usr/local/lib/python3.10/dist-packages (from tensorflow) (18.1.1)\n",
            "Requirement already satisfied: ml-dtypes<0.5.0,>=0.3.1 in /usr/local/lib/python3.10/dist-packages (from tensorflow) (0.4.1)\n",
            "Requirement already satisfied: opt-einsum>=2.3.2 in /usr/local/lib/python3.10/dist-packages (from tensorflow) (3.4.0)\n",
            "Requirement already satisfied: packaging in /usr/local/lib/python3.10/dist-packages (from tensorflow) (24.2)\n",
            "Requirement already satisfied: protobuf!=4.21.0,!=4.21.1,!=4.21.2,!=4.21.3,!=4.21.4,!=4.21.5,<5.0.0dev,>=3.20.3 in /usr/local/lib/python3.10/dist-packages (from tensorflow) (4.25.5)\n",
            "Requirement already satisfied: requests<3,>=2.21.0 in /usr/local/lib/python3.10/dist-packages (from tensorflow) (2.32.3)\n",
            "Requirement already satisfied: setuptools in /usr/local/lib/python3.10/dist-packages (from tensorflow) (75.1.0)\n",
            "Requirement already satisfied: six>=1.12.0 in /usr/local/lib/python3.10/dist-packages (from tensorflow) (1.17.0)\n",
            "Requirement already satisfied: termcolor>=1.1.0 in /usr/local/lib/python3.10/dist-packages (from tensorflow) (2.5.0)\n",
            "Requirement already satisfied: typing-extensions>=3.6.6 in /usr/local/lib/python3.10/dist-packages (from tensorflow) (4.12.2)\n",
            "Requirement already satisfied: wrapt>=1.11.0 in /usr/local/lib/python3.10/dist-packages (from tensorflow) (1.17.0)\n",
            "Requirement already satisfied: grpcio<2.0,>=1.24.3 in /usr/local/lib/python3.10/dist-packages (from tensorflow) (1.68.1)\n",
            "Requirement already satisfied: tensorboard<2.18,>=2.17 in /usr/local/lib/python3.10/dist-packages (from tensorflow) (2.17.1)\n",
            "Requirement already satisfied: keras>=3.2.0 in /usr/local/lib/python3.10/dist-packages (from tensorflow) (3.5.0)\n",
            "Requirement already satisfied: tensorflow-io-gcs-filesystem>=0.23.1 in /usr/local/lib/python3.10/dist-packages (from tensorflow) (0.37.1)\n",
            "Requirement already satisfied: contourpy>=1.0.1 in /usr/local/lib/python3.10/dist-packages (from matplotlib) (1.3.1)\n",
            "Requirement already satisfied: cycler>=0.10 in /usr/local/lib/python3.10/dist-packages (from matplotlib) (0.12.1)\n",
            "Requirement already satisfied: fonttools>=4.22.0 in /usr/local/lib/python3.10/dist-packages (from matplotlib) (4.55.3)\n",
            "Requirement already satisfied: kiwisolver>=1.0.1 in /usr/local/lib/python3.10/dist-packages (from matplotlib) (1.4.7)\n",
            "Requirement already satisfied: pillow>=6.2.0 in /usr/local/lib/python3.10/dist-packages (from matplotlib) (11.0.0)\n",
            "Requirement already satisfied: pyparsing>=2.3.1 in /usr/local/lib/python3.10/dist-packages (from matplotlib) (3.2.0)\n",
            "Requirement already satisfied: scipy>=1.6.0 in /usr/local/lib/python3.10/dist-packages (from scikit-learn) (1.13.1)\n",
            "Requirement already satisfied: joblib>=1.2.0 in /usr/local/lib/python3.10/dist-packages (from scikit-learn) (1.4.2)\n",
            "Requirement already satisfied: threadpoolctl>=3.1.0 in /usr/local/lib/python3.10/dist-packages (from scikit-learn) (3.5.0)\n",
            "Requirement already satisfied: wheel<1.0,>=0.23.0 in /usr/local/lib/python3.10/dist-packages (from astunparse>=1.6.0->tensorflow) (0.45.1)\n",
            "Requirement already satisfied: rich in /usr/local/lib/python3.10/dist-packages (from keras>=3.2.0->tensorflow) (13.9.4)\n",
            "Requirement already satisfied: namex in /usr/local/lib/python3.10/dist-packages (from keras>=3.2.0->tensorflow) (0.0.8)\n",
            "Requirement already satisfied: optree in /usr/local/lib/python3.10/dist-packages (from keras>=3.2.0->tensorflow) (0.13.1)\n",
            "Requirement already satisfied: charset-normalizer<4,>=2 in /usr/local/lib/python3.10/dist-packages (from requests<3,>=2.21.0->tensorflow) (3.4.0)\n",
            "Requirement already satisfied: idna<4,>=2.5 in /usr/local/lib/python3.10/dist-packages (from requests<3,>=2.21.0->tensorflow) (3.10)\n",
            "Requirement already satisfied: urllib3<3,>=1.21.1 in /usr/local/lib/python3.10/dist-packages (from requests<3,>=2.21.0->tensorflow) (2.2.3)\n",
            "Requirement already satisfied: certifi>=2017.4.17 in /usr/local/lib/python3.10/dist-packages (from requests<3,>=2.21.0->tensorflow) (2024.12.14)\n",
            "Requirement already satisfied: markdown>=2.6.8 in /usr/local/lib/python3.10/dist-packages (from tensorboard<2.18,>=2.17->tensorflow) (3.7)\n",
            "Requirement already satisfied: tensorboard-data-server<0.8.0,>=0.7.0 in /usr/local/lib/python3.10/dist-packages (from tensorboard<2.18,>=2.17->tensorflow) (0.7.2)\n",
            "Requirement already satisfied: werkzeug>=1.0.1 in /usr/local/lib/python3.10/dist-packages (from tensorboard<2.18,>=2.17->tensorflow) (3.1.3)\n",
            "Requirement already satisfied: MarkupSafe>=2.1.1 in /usr/local/lib/python3.10/dist-packages (from werkzeug>=1.0.1->tensorboard<2.18,>=2.17->tensorflow) (3.0.2)\n",
            "Requirement already satisfied: markdown-it-py>=2.2.0 in /usr/local/lib/python3.10/dist-packages (from rich->keras>=3.2.0->tensorflow) (3.0.0)\n",
            "Requirement already satisfied: pygments<3.0.0,>=2.13.0 in /usr/local/lib/python3.10/dist-packages (from rich->keras>=3.2.0->tensorflow) (2.18.0)\n",
            "Requirement already satisfied: mdurl~=0.1 in /usr/local/lib/python3.10/dist-packages (from markdown-it-py>=2.2.0->rich->keras>=3.2.0->tensorflow) (0.1.2)\n"
          ]
        }
      ]
    },
    {
      "cell_type": "code",
      "source": [
        "!pip install tqdm"
      ],
      "metadata": {
        "colab": {
          "base_uri": "https://localhost:8080/"
        },
        "id": "N9qEY3HBbQH9",
        "outputId": "e2caadb7-89e6-4033-8706-1af1387585a7"
      },
      "execution_count": 2,
      "outputs": [
        {
          "output_type": "stream",
          "name": "stdout",
          "text": [
            "Requirement already satisfied: tqdm in /usr/local/lib/python3.10/dist-packages (4.67.1)\n"
          ]
        }
      ]
    },
    {
      "cell_type": "markdown",
      "source": [
        "importing the dataset from kaggle\n",
        "\n",
        "other datasets:\n",
        "<br />\n",
        "- https://www.kaggle.com/code/krooz0/deep-fake-detection-on-images-and-videos/notebook\n",
        "- https://www.kaggle.com/code/anlthms/deepfake-example-video-clips\n",
        "- https://www.kaggle.com/datasets/sanikatiwarekar/deep-fake-detection-dfd-entire-original-dataset\n"
      ],
      "metadata": {
        "id": "oU1LZzAYraE2"
      }
    },
    {
      "cell_type": "markdown",
      "source": [
        "import .png dataset"
      ],
      "metadata": {
        "id": "gE76DUI47HwH"
      }
    },
    {
      "cell_type": "code",
      "source": [
        "import kagglehub\n",
        "\n",
        "# Download latest version\n",
        "path = kagglehub.dataset_download(\"nanduncs/1000-deepfake-videos\")\n",
        "\n",
        "print(\"Path to dataset files:\", path)"
      ],
      "metadata": {
        "colab": {
          "base_uri": "https://localhost:8080/"
        },
        "id": "6u8AHgBwbU_t",
        "outputId": "10fd824c-7ace-49dd-f482-1952f5de406c"
      },
      "execution_count": null,
      "outputs": [
        {
          "output_type": "stream",
          "name": "stdout",
          "text": [
            "Path to dataset files: /root/.cache/kagglehub/datasets/nanduncs/1000-deepfake-videos/versions/1\n"
          ]
        }
      ]
    },
    {
      "cell_type": "markdown",
      "source": [
        "import .mp4 dataset"
      ],
      "metadata": {
        "id": "L9yE6UBD7KkD"
      }
    },
    {
      "cell_type": "code",
      "source": [
        "import kagglehub\n",
        "\n",
        "# Download latest version\n",
        "path = kagglehub.dataset_download(\"sanikatiwarekar/deep-fake-detection-dfd-entire-original-dataset\")\n",
        "\n",
        "print(\"Path to dataset files:\", path)"
      ],
      "metadata": {
        "colab": {
          "base_uri": "https://localhost:8080/"
        },
        "id": "O02WDZZY6A0r",
        "outputId": "e1afd7f6-76f0-411d-ed36-7877fcd5f524"
      },
      "execution_count": 3,
      "outputs": [
        {
          "output_type": "stream",
          "name": "stdout",
          "text": [
            "Warning: Looks like you're using an outdated `kagglehub` version (installed: 0.3.5), please consider upgrading to the latest version (0.3.6).\n",
            "Downloading from https://www.kaggle.com/api/v1/datasets/download/sanikatiwarekar/deep-fake-detection-dfd-entire-original-dataset?dataset_version_number=1...\n"
          ]
        },
        {
          "output_type": "stream",
          "name": "stderr",
          "text": [
            "100%|██████████| 22.5G/22.5G [04:43<00:00, 85.1MB/s]"
          ]
        },
        {
          "output_type": "stream",
          "name": "stdout",
          "text": [
            "Extracting files...\n"
          ]
        },
        {
          "output_type": "stream",
          "name": "stderr",
          "text": [
            "\n"
          ]
        },
        {
          "output_type": "stream",
          "name": "stdout",
          "text": [
            "Path to dataset files: /root/.cache/kagglehub/datasets/sanikatiwarekar/deep-fake-detection-dfd-entire-original-dataset/versions/1\n"
          ]
        }
      ]
    },
    {
      "cell_type": "markdown",
      "source": [
        "checking if the files exist (code for .png dataset)"
      ],
      "metadata": {
        "id": "93uFukImq92R"
      }
    },
    {
      "cell_type": "code",
      "source": [
        "import os\n",
        "\n",
        "# Define the path to the main dataset\n",
        "dataset_path = '/root/.cache/kagglehub/datasets/nanduncs/1000-deepfake-videos/versions/1'\n",
        "\n",
        "# Define the path to the '1000_videos' subdirectory\n",
        "videos_path = os.path.join(dataset_path, '1000_videos')\n",
        "\n",
        "# Define the paths to the 'real' and 'fake' subdirectories\n",
        "real_path = os.path.join(videos_path, 'Real')\n",
        "fake_path = os.path.join(videos_path, 'Fake')\n",
        "\n",
        "# List all PNG files in the 'real' folder\n",
        "real_files = [os.path.join('Real', file) for file in os.listdir(real_path) if file.endswith('.png')]\n",
        "\n",
        "# List all PNG files in the 'fake' folder\n",
        "fake_files = [os.path.join('Fake', file) for file in os.listdir(fake_path) if file.endswith('.png')]\n",
        "\n",
        "# Combine the two lists\n",
        "all_files = real_files + fake_files\n",
        "\n",
        "# Display the first few files to verify the structure\n",
        "print(f\"Found {len(all_files)} PNG files. First few files:\", all_files[:10])\n"
      ],
      "metadata": {
        "colab": {
          "base_uri": "https://localhost:8080/"
        },
        "id": "cgUz3jw6pdfC",
        "outputId": "375bc306-8935-4041-8098-33fb4f1d0092"
      },
      "execution_count": null,
      "outputs": [
        {
          "output_type": "stream",
          "name": "stdout",
          "text": [
            "Found 16433 PNG files. First few files: ['Real/id4_0000_2.png', 'Real/168_17.png', 'Real/id8_0001_13.png', 'Real/060_12.png', 'Real/id25_0008_5.png', 'Real/049_5.png', 'Real/113_5.png', 'Real/165_14.png', 'Real/id1_0006_1.png', 'Real/199_11.png']\n"
          ]
        }
      ]
    },
    {
      "cell_type": "markdown",
      "source": [
        "check if the files exist (.mp4 dataset)"
      ],
      "metadata": {
        "id": "OU52-NWj7hZF"
      }
    },
    {
      "cell_type": "code",
      "source": [
        "# import os\n",
        "\n",
        "# # Define the path to the main dataset\n",
        "# dataset_path = '/root/.cache/kagglehub/datasets/sanikatiwarekar/deep-fake-detection-dfd-entire-original-dataset/'\n",
        "\n",
        "# # Define the paths to the subdirectories\n",
        "# manipulated_path = os.path.join(dataset_path, 'DFD_manipulated_sequences/DFD_manipulated_sequences')\n",
        "# original_path = os.path.join(dataset_path, 'DFD_original_sequences')\n",
        "\n",
        "# # Check and list all .mp4 files in 'dfd_manipulated_sequences'\n",
        "# manipulated_files = []\n",
        "# for root, dirs, files in os.walk(manipulated_path):\n",
        "#     for file in files:\n",
        "#         if file.endswith('.mp4'):\n",
        "#             manipulated_files.append(os.path.join(root, file))\n",
        "\n",
        "# # Check and list all .mp4 files in 'dfd_original_sequences'\n",
        "# original_files = []\n",
        "# for root, dirs, files in os.walk(original_path):\n",
        "#     for file in files:\n",
        "#         if file.endswith('.mp4'):\n",
        "#             original_files.append(os.path.join(root, file))\n",
        "\n",
        "# # Combine the lists of manipulated and original .mp4 files\n",
        "# all_files = manipulated_files + original_files\n",
        "\n",
        "# # Display the number of files and the first few files\n",
        "# print(f\"Found {len(all_files)} MP4 files. First few files:\", all_files[:10])\n",
        "\n",
        "\n",
        "import os\n",
        "\n",
        "# Define the path to the main dataset\n",
        "dataset_path = '/root/.cache/kagglehub/datasets/sanikatiwarekar/deep-fake-detection-dfd-entire-original-dataset/'\n",
        "\n",
        "# Define the path to the 'versions/1' subdirectory\n",
        "versions_1_path = os.path.join(dataset_path, 'versions', '1')\n",
        "\n",
        "# Check the contents of the 'versions/1' directory\n",
        "print(f\"Contents of versions/1 folder: {os.listdir(versions_1_path)}\")\n",
        "\n",
        "# Define the path to the main dataset\n",
        "dataset_path = '/root/.cache/kagglehub/datasets/sanikatiwarekar/deep-fake-detection-dfd-entire-original-dataset/'\n",
        "\n",
        "# Define the path to the 'versions/1' subdirectory\n",
        "versions_1_path = os.path.join(dataset_path, 'versions', '1')\n",
        "\n",
        "# Define the paths to the 'DFD_manipulated_sequences' and 'DFD_original_sequences'\n",
        "manipulated_path = os.path.join(versions_1_path, 'DFD_manipulated_sequences')\n",
        "original_path = os.path.join(versions_1_path, 'DFD_original sequences')\n",
        "\n",
        "# List all .mp4 files in 'DFD_manipulated_sequences'\n",
        "manipulated_files = []\n",
        "for root, dirs, files in os.walk(manipulated_path):\n",
        "    for file in files:\n",
        "        if file.lower().endswith('.mp4'):  # Case-insensitive check for .mp4\n",
        "            manipulated_files.append(os.path.join(root, file))\n",
        "\n",
        "# List all .mp4 files in 'DFD_original_sequences'\n",
        "original_files = []\n",
        "for root, dirs, files in os.walk(original_path):\n",
        "    for file in files:\n",
        "        if file.lower().endswith('.mp4'):  # Case-insensitive check for .mp4\n",
        "            original_files.append(os.path.join(root, file))\n",
        "\n",
        "# Combine the lists of manipulated and original .mp4 files\n",
        "all_files = manipulated_files + original_files\n",
        "\n",
        "# Display the number of files and the first few files\n",
        "print(f\"Found {len(all_files)} MP4 files. First few files:\", all_files[:10])\n"
      ],
      "metadata": {
        "colab": {
          "base_uri": "https://localhost:8080/"
        },
        "id": "uYXGZ8-U7jp6",
        "outputId": "2d7e9f24-e771-46b8-85a1-823f0b57c66a"
      },
      "execution_count": 4,
      "outputs": [
        {
          "output_type": "stream",
          "name": "stdout",
          "text": [
            "Contents of versions/1 folder: ['DFD_original sequences', 'DFD_manipulated_sequences']\n",
            "Found 3431 MP4 files. First few files: ['/root/.cache/kagglehub/datasets/sanikatiwarekar/deep-fake-detection-dfd-entire-original-dataset/versions/1/DFD_manipulated_sequences/DFD_manipulated_sequences/02_13__walking_outside_cafe_disgusted__CP5HFV3K.mp4', '/root/.cache/kagglehub/datasets/sanikatiwarekar/deep-fake-detection-dfd-entire-original-dataset/versions/1/DFD_manipulated_sequences/DFD_manipulated_sequences/12_07__walk_down_hall_angry__KAG65PEE.mp4', '/root/.cache/kagglehub/datasets/sanikatiwarekar/deep-fake-detection-dfd-entire-original-dataset/versions/1/DFD_manipulated_sequences/DFD_manipulated_sequences/20_13__walk_down_hall_angry__43KAHOT2.mp4', '/root/.cache/kagglehub/datasets/sanikatiwarekar/deep-fake-detection-dfd-entire-original-dataset/versions/1/DFD_manipulated_sequences/DFD_manipulated_sequences/03_27__walking_and_outside_surprised__KWGI1LSZ.mp4', '/root/.cache/kagglehub/datasets/sanikatiwarekar/deep-fake-detection-dfd-entire-original-dataset/versions/1/DFD_manipulated_sequences/DFD_manipulated_sequences/18_27__walking_outside_cafe_disgusted__NYHE8D0J.mp4', '/root/.cache/kagglehub/datasets/sanikatiwarekar/deep-fake-detection-dfd-entire-original-dataset/versions/1/DFD_manipulated_sequences/DFD_manipulated_sequences/07_02__kitchen_pan__34PVT42V.mp4', '/root/.cache/kagglehub/datasets/sanikatiwarekar/deep-fake-detection-dfd-entire-original-dataset/versions/1/DFD_manipulated_sequences/DFD_manipulated_sequences/20_01__outside_talking_pan_laughing__6UBMLXK3.mp4', '/root/.cache/kagglehub/datasets/sanikatiwarekar/deep-fake-detection-dfd-entire-original-dataset/versions/1/DFD_manipulated_sequences/DFD_manipulated_sequences/08_05__exit_phone_room__UNN7ZGKO.mp4', '/root/.cache/kagglehub/datasets/sanikatiwarekar/deep-fake-detection-dfd-entire-original-dataset/versions/1/DFD_manipulated_sequences/DFD_manipulated_sequences/03_20__kitchen_still__Z6V05FXO.mp4', '/root/.cache/kagglehub/datasets/sanikatiwarekar/deep-fake-detection-dfd-entire-original-dataset/versions/1/DFD_manipulated_sequences/DFD_manipulated_sequences/01_14__walking_and_outside_surprised__01YF7VQM.mp4']\n"
          ]
        }
      ]
    },
    {
      "cell_type": "markdown",
      "source": [
        "creating a dataframe - for easily splitting the data into training and testing datasets (.png dataset)"
      ],
      "metadata": {
        "id": "VwI-nZzrrgDB"
      }
    },
    {
      "cell_type": "code",
      "source": [
        "import pandas as pd\n",
        "\n",
        "# Create labels: 'real' for files in 'Real' and 'fake' for files in 'Fake'\n",
        "labels = ['real'] * len(real_files) + ['fake'] * len(fake_files)\n",
        "\n",
        "# Combine the filenames and labels into a DataFrame\n",
        "df = pd.DataFrame({\n",
        "    'file': all_files,\n",
        "    'label': labels\n",
        "})\n",
        "\n",
        "df = df.sample(10000, random_state=42)\n",
        "\n",
        "# Display the first few rows of the DataFrame\n",
        "print(df)\n"
      ],
      "metadata": {
        "colab": {
          "base_uri": "https://localhost:8080/"
        },
        "id": "RZj1jTVhrj69",
        "outputId": "2a18c152-8068-4f74-8929-87318783540d"
      },
      "execution_count": null,
      "outputs": [
        {
          "output_type": "stream",
          "name": "stdout",
          "text": [
            "                            file label\n",
            "12560   Fake/id0_id20_0006_7.png  fake\n",
            "16228         Fake/177_211_9.png  fake\n",
            "4816             Real/133_22.png  real\n",
            "6877              Real/039_3.png  real\n",
            "6601         Real/id0_0006_2.png  real\n",
            "...                          ...   ...\n",
            "10164         Fake/159_175_5.png  fake\n",
            "4683        Real/id19_0000_4.png  real\n",
            "15402    Fake/id0_id1_0001_6.png  fake\n",
            "13909   Fake/id1_id31_0000_0.png  fake\n",
            "11830  Fake/id0_id21_0003_15.png  fake\n",
            "\n",
            "[10000 rows x 2 columns]\n"
          ]
        }
      ]
    },
    {
      "cell_type": "markdown",
      "source": [
        "creating a dataframe (.mp4 dataset)"
      ],
      "metadata": {
        "id": "3MuSwlM0-BR7"
      }
    },
    {
      "cell_type": "code",
      "source": [
        "\n",
        "import pandas as pd\n",
        "\n",
        "labels = ['real'] * len(original_files) + ['fake'] * len(manipulated_files)\n",
        "\n",
        "# Combine the filenames and labels into a DataFrame\n",
        "df = pd.DataFrame({\n",
        "    'file': all_files,\n",
        "    'label': labels\n",
        "})\n",
        "\n",
        "# Print the total number of files\n",
        "print(f\"Total number of files: {len(all_files)}\")\n",
        "\n",
        "# Sample all files if there are less than 10,000\n",
        "sample_size = min(10000, len(all_files))  # Ensure we don't sample more than available\n",
        "\n",
        "# Sample files randomly\n",
        "df = df.sample(sample_size, random_state=42)\n",
        "\n",
        "# Display the first few rows of the DataFrame\n",
        "print(df.head())"
      ],
      "metadata": {
        "colab": {
          "base_uri": "https://localhost:8080/"
        },
        "id": "mVAvdVQM-Fgz",
        "outputId": "0dabb039-3fa3-4ef5-edbc-c7d27519a070"
      },
      "execution_count": 6,
      "outputs": [
        {
          "output_type": "stream",
          "name": "stdout",
          "text": [
            "Total number of files: 3431\n",
            "                                                   file label\n",
            "1575  /root/.cache/kagglehub/datasets/sanikatiwareka...  fake\n",
            "1949  /root/.cache/kagglehub/datasets/sanikatiwareka...  fake\n",
            "3241  /root/.cache/kagglehub/datasets/sanikatiwareka...  fake\n",
            "3143  /root/.cache/kagglehub/datasets/sanikatiwareka...  fake\n",
            "1861  /root/.cache/kagglehub/datasets/sanikatiwareka...  fake\n"
          ]
        }
      ]
    },
    {
      "cell_type": "markdown",
      "source": [
        "preprocess the dataset (laptop keeps running out of memory here)\n",
        "\n"
      ],
      "metadata": {
        "id": "hALZa1g0sGWv"
      }
    },
    {
      "cell_type": "code",
      "source": [
        "# import cv2\n",
        "# import numpy as np\n",
        "# from sklearn.model_selection import train_test_split\n",
        "# from tensorflow.keras.utils import to_categorical\n",
        "\n",
        "# # Parameters\n",
        "# IMG_SIZE = 32  # Resize images to 32x32\n",
        "# SEQUENCE_LENGTH = 10  # Number of frames per sequence\n",
        "\n",
        "# # Function to preprocess images\n",
        "# def preprocess_image(file_path):\n",
        "#     img = cv2.imread(file_path)  # Load image\n",
        "#     img = cv2.cvtColor(img, cv2.COLOR_BGR2RGB)  # Convert to RGB\n",
        "#     img = cv2.resize(img, (IMG_SIZE, IMG_SIZE))  # Resize to IMG_SIZE\n",
        "#     img = img / 255.0  # Normalize pixel values\n",
        "#     return img\n",
        "\n",
        "# # Prepare data and labels\n",
        "# data = []\n",
        "# labels = []\n",
        "\n",
        "# for _, row in df.iterrows():\n",
        "#     file_path = os.path.join(videos_path, row['file'])  # Full file path\n",
        "#     try:\n",
        "#         img = preprocess_image(file_path)\n",
        "#         data.append(img)\n",
        "#         labels.append(0 if row['label'] == 'real' else 1)\n",
        "#     except Exception as e:\n",
        "#         print(f\"Error processing file {file_path}: {e}\")\n",
        "\n",
        "# data = np.array(data)\n",
        "# labels = np.array(labels)\n",
        "\n",
        "# # Split data into sequences\n",
        "# def create_sequences(data, labels, sequence_length):\n",
        "#     sequences = []\n",
        "#     sequence_labels = []\n",
        "#     for i in range(0, len(data) - sequence_length + 1, sequence_length):\n",
        "#         sequences.append(data[i:i + sequence_length])\n",
        "#         sequence_labels.append(labels[i + sequence_length - 1])  # Label of last frame\n",
        "#     return np.array(sequences), np.array(sequence_labels)\n",
        "\n",
        "# sequences, sequence_labels = create_sequences(data, labels, SEQUENCE_LENGTH)\n",
        "\n",
        "# # Split into train and test sets\n",
        "# X_train, X_test, y_train, y_test = train_test_split(\n",
        "#     sequences, sequence_labels, test_size=0.2, random_state=42\n",
        "# )\n",
        "\n",
        "# # One-hot encode labels\n",
        "# y_train = to_categorical(y_train, num_classes=2)\n",
        "# y_test = to_categorical(y_test, num_classes=2)\n",
        "\n",
        "# print(f\"Training data shape: {X_train.shape}\")\n",
        "# print(f\"Testing data shape: {X_test.shape}\")\n"
      ],
      "metadata": {
        "id": "PM2wxo2WsHy7"
      },
      "execution_count": null,
      "outputs": []
    },
    {
      "cell_type": "markdown",
      "source": [
        "use for preprocessing (.png dataset)"
      ],
      "metadata": {
        "id": "oyp-7jMwyhS7"
      }
    },
    {
      "cell_type": "code",
      "source": [
        "import cv2\n",
        "import numpy as np\n",
        "import os\n",
        "import pickle\n",
        "from sklearn.model_selection import train_test_split\n",
        "\n",
        "# Parameters\n",
        "IMG_SIZE = 32  # Resize images to 32x32\n",
        "SEQUENCE_LENGTH = 10  # Number of frames per sequence\n",
        "PICKLE_FILE = 'deepfake_sequences.pkl'  # Output pickle file name\n",
        "\n",
        "# Function to preprocess images\n",
        "def preprocess_image(file_path):\n",
        "    img = cv2.imread(file_path)  # Load image\n",
        "    img = cv2.cvtColor(img, cv2.COLOR_BGR2RGB)  # Convert to RGB\n",
        "    img = cv2.resize(img, (IMG_SIZE, IMG_SIZE))  # Resize to IMG_SIZE\n",
        "    img = img / 255.0  # Normalize pixel values\n",
        "    return img\n",
        "\n",
        "# Prepare data and labels\n",
        "data = []\n",
        "labels = []\n",
        "\n",
        "for _, row in df.iterrows():\n",
        "    file_path = os.path.join(videos_path, row['file'])  # Full file path\n",
        "    try:\n",
        "        img = preprocess_image(file_path)\n",
        "        data.append(img)\n",
        "        labels.append(0 if row['label'] == 'real' else 1)  # 0 for 'real', 1 for 'fake'\n",
        "    except Exception as e:\n",
        "        print(f\"Error processing file {file_path}: {e}\")\n",
        "\n",
        "data = np.array(data)\n",
        "labels = np.array(labels)\n",
        "\n",
        "# Function to split data into sequences\n",
        "def create_sequences(data, labels, sequence_length):\n",
        "    sequences = []\n",
        "    sequence_labels = []\n",
        "    for i in range(0, len(data) - sequence_length + 1, sequence_length):\n",
        "        sequences.append(data[i:i + sequence_length])\n",
        "        sequence_labels.append(labels[i + sequence_length - 1])  # Label of the last frame in the sequence\n",
        "    return np.array(sequences), np.array(sequence_labels)\n",
        "\n",
        "# Create sequences\n",
        "sequences, sequence_labels = create_sequences(data, labels, SEQUENCE_LENGTH)\n",
        "\n",
        "# Split data into train and test sets\n",
        "X_train, X_test, y_train, y_test = train_test_split(\n",
        "    sequences, sequence_labels, test_size=0.2, random_state=42\n",
        ")\n",
        "\n",
        "# Save the processed data to a pickle file\n",
        "with open(PICKLE_FILE, 'wb') as f:\n",
        "    pickle.dump((X_train, X_test, y_train, y_test), f)\n",
        "\n",
        "print(f\"Data preprocessing complete. Data saved to '{PICKLE_FILE}'\")\n"
      ],
      "metadata": {
        "colab": {
          "base_uri": "https://localhost:8080/"
        },
        "id": "PA1h9y6_wPid",
        "outputId": "b81bc97f-84dc-43af-c8aa-7e491a75ccc2"
      },
      "execution_count": null,
      "outputs": [
        {
          "output_type": "stream",
          "name": "stdout",
          "text": [
            "Data preprocessing complete. Data saved to 'deepfake_sequences.pkl'\n"
          ]
        }
      ]
    },
    {
      "cell_type": "markdown",
      "source": [
        "preprocess dataset (.mp4 data) --> make changes here"
      ],
      "metadata": {
        "id": "MhliI0oU_DHP"
      }
    },
    {
      "cell_type": "code",
      "source": [
        "import cv2\n",
        "import numpy as np\n",
        "import os\n",
        "import pickle\n",
        "from sklearn.model_selection import train_test_split\n",
        "\n",
        "# Parameters\n",
        "IMG_SIZE = 32  # Resize images to 32x32\n",
        "SEQUENCE_LENGTH = 10  # Number of frames per sequence\n",
        "PICKLE_FILE = 'deepfake_sequences_videos.pkl'  # Output pickle file name\n",
        "\n",
        "# Function to preprocess a frame (resize and normalize)\n",
        "def preprocess_frame(frame):\n",
        "    frame = cv2.cvtColor(frame, cv2.COLOR_BGR2RGB)  # Convert to RGB\n",
        "    frame = cv2.resize(frame, (IMG_SIZE, IMG_SIZE))  # Resize to IMG_SIZE\n",
        "    frame = frame / 255.0  # Normalize pixel values\n",
        "    return frame\n",
        "\n",
        "# Function to extract frames from a video file\n",
        "def extract_frames_from_video(video_path, sequence_length):\n",
        "    cap = cv2.VideoCapture(video_path)  # Open video file\n",
        "    frames = []\n",
        "    frame_count = 0\n",
        "\n",
        "    while cap.isOpened():\n",
        "        ret, frame = cap.read()\n",
        "        if not ret:\n",
        "            break\n",
        "        frames.append(preprocess_frame(frame))\n",
        "        frame_count += 1\n",
        "\n",
        "        # Stop if we've collected enough frames\n",
        "        if frame_count >= sequence_length:\n",
        "            break\n",
        "\n",
        "    cap.release()  # Release the video capture object\n",
        "\n",
        "    # If the video is too short, return None\n",
        "    if len(frames) < sequence_length:\n",
        "        return None\n",
        "\n",
        "    return np.array(frames)\n",
        "\n",
        "# Prepare data and labels\n",
        "data = []\n",
        "labels = []\n",
        "\n",
        "# Assume `df` contains 'file' and 'label' columns with the paths to the .mp4 files and corresponding labels\n",
        "for _, row in df.iterrows():\n",
        "    video_path = os.path.join(versions_1_path, row['file'])  # Full file path\n",
        "    try:\n",
        "        frames = extract_frames_from_video(video_path, SEQUENCE_LENGTH)\n",
        "        if frames is not None:\n",
        "            data.append(frames)\n",
        "            labels.append(0 if row['label'] == 'real' else 1)  # 0 for 'real', 1 for 'fake'\n",
        "    except Exception as e:\n",
        "        print(f\"Error processing video {video_path}: {e}\")\n",
        "\n",
        "data = np.array(data)\n",
        "labels = np.array(labels)\n",
        "\n",
        "# Split data into train and test sets\n",
        "X_train, X_test, y_train, y_test = train_test_split(\n",
        "    data, labels, test_size=0.2, random_state=42\n",
        ")\n",
        "\n",
        "# Save the processed data to a pickle file\n",
        "with open(PICKLE_FILE, 'wb') as f:\n",
        "    pickle.dump((X_train, X_test, y_train, y_test), f)\n",
        "\n",
        "print(f\"Data preprocessing complete. Data saved to '{PICKLE_FILE}'\")\n"
      ],
      "metadata": {
        "colab": {
          "base_uri": "https://localhost:8080/"
        },
        "id": "MyrEis4o_Fvz",
        "outputId": "b538de67-176b-4ccd-c1c0-3003ab8c1584"
      },
      "execution_count": 8,
      "outputs": [
        {
          "output_type": "stream",
          "name": "stdout",
          "text": [
            "Data preprocessing complete. Data saved to 'deepfake_sequences_videos.pkl'\n"
          ]
        }
      ]
    },
    {
      "cell_type": "markdown",
      "source": [
        "load the pkl file (.png dataset)"
      ],
      "metadata": {
        "id": "dOngcBIyw4Ew"
      }
    },
    {
      "cell_type": "code",
      "source": [
        "import pickle\n",
        "\n",
        "# Load preprocessed data\n",
        "PICKLE_FILE = 'deepfake_sequences.pkl'\n",
        "\n",
        "with open(PICKLE_FILE, 'rb') as f:\n",
        "    X_train, X_test, y_train, y_test = pickle.load(f)\n",
        "\n",
        "print(\"Data successfully loaded!\")\n",
        "print(f\"Training data shape: {X_train.shape}\")\n",
        "print(f\"Testing data shape: {X_test.shape}\")\n"
      ],
      "metadata": {
        "colab": {
          "base_uri": "https://localhost:8080/"
        },
        "id": "rZNaLcc8w2bF",
        "outputId": "2dd6bee4-b8e4-4aed-eae0-ad7600ea48df"
      },
      "execution_count": null,
      "outputs": [
        {
          "output_type": "stream",
          "name": "stdout",
          "text": [
            "Data successfully loaded!\n",
            "Training data shape: (800, 10, 32, 32, 3)\n",
            "Testing data shape: (200, 10, 32, 32, 3)\n"
          ]
        }
      ]
    },
    {
      "cell_type": "markdown",
      "source": [
        "load the pkl file (.mp4 dataset)"
      ],
      "metadata": {
        "id": "bffA8beBByJ-"
      }
    },
    {
      "cell_type": "code",
      "source": [
        "import pickle\n",
        "\n",
        "# Load preprocessed data\n",
        "PICKLE_FILE = 'deepfake_sequences_videos.pkl'  # Updated file name\n",
        "\n",
        "with open(PICKLE_FILE, 'rb') as f:\n",
        "    X_train, X_test, y_train, y_test = pickle.load(f)\n",
        "\n",
        "print(\"Data successfully loaded!\")\n",
        "print(f\"Training data shape: {X_train.shape}\")\n",
        "print(f\"Testing data shape: {X_test.shape}\")\n"
      ],
      "metadata": {
        "colab": {
          "base_uri": "https://localhost:8080/"
        },
        "id": "QvQ0DZW1B0Bd",
        "outputId": "3761692b-7a0e-4ed7-91a4-e7a8386e58b9"
      },
      "execution_count": 9,
      "outputs": [
        {
          "output_type": "stream",
          "name": "stdout",
          "text": [
            "Data successfully loaded!\n",
            "Training data shape: (2740, 10, 32, 32, 3)\n",
            "Testing data shape: (685, 10, 32, 32, 3)\n"
          ]
        }
      ]
    },
    {
      "cell_type": "markdown",
      "source": [
        "make sure labels are one-hot encoded (.png dataset)"
      ],
      "metadata": {
        "id": "n6V1X4E7xwoz"
      }
    },
    {
      "cell_type": "code",
      "source": [
        "from tensorflow.keras.utils import to_categorical\n",
        "\n",
        "# Ensure labels are one-hot encoded\n",
        "y_train = to_categorical(y_train, num_classes=2)\n",
        "y_test = to_categorical(y_test, num_classes=2)\n",
        "\n",
        "print(f\"y_train shape: {y_train.shape}\")\n",
        "print(f\"y_test shape: {y_test.shape}\")\n"
      ],
      "metadata": {
        "colab": {
          "base_uri": "https://localhost:8080/"
        },
        "id": "go7yejk6xvVE",
        "outputId": "74baf0c9-2dbc-41cd-a092-2bf1a4353f23"
      },
      "execution_count": null,
      "outputs": [
        {
          "output_type": "stream",
          "name": "stdout",
          "text": [
            "y_train shape: (800, 2)\n",
            "y_test shape: (200, 2)\n"
          ]
        }
      ]
    },
    {
      "cell_type": "markdown",
      "source": [
        "make sure the labels are one-hot encoded (.mp4 dataset)"
      ],
      "metadata": {
        "id": "dgFeF6LCCEU7"
      }
    },
    {
      "cell_type": "code",
      "source": [
        "from tensorflow.keras.utils import to_categorical\n",
        "\n",
        "# Ensure labels are one-hot encoded\n",
        "y_train = to_categorical(y_train, num_classes=2)  # 2 classes: 'real' and 'fake'\n",
        "y_test = to_categorical(y_test, num_classes=2)\n",
        "\n",
        "# Print the shapes to confirm the encoding\n",
        "print(f\"y_train shape (after one-hot encoding): {y_train.shape}\")\n",
        "print(f\"y_test shape (after one-hot encoding): {y_test.shape}\")\n"
      ],
      "metadata": {
        "colab": {
          "base_uri": "https://localhost:8080/"
        },
        "id": "81IxEgcbCGdv",
        "outputId": "571df0c4-f601-463a-fba0-a905a5b3c6bc"
      },
      "execution_count": 10,
      "outputs": [
        {
          "output_type": "stream",
          "name": "stdout",
          "text": [
            "y_train shape (after one-hot encoding): (2740, 2)\n",
            "y_test shape (after one-hot encoding): (685, 2)\n"
          ]
        }
      ]
    },
    {
      "cell_type": "markdown",
      "source": [
        "define lstm model\n",
        "(can use cnn layers for feature extraction)\n",
        "<br />\n",
        "why lstm: designed to handle sequential data and capture temporal dependencies"
      ],
      "metadata": {
        "id": "XLtH6f0puZNG"
      }
    },
    {
      "cell_type": "code",
      "source": [
        "import tensorflow as tf\n",
        "import seaborn as sns\n",
        "import matplotlib.pyplot as plt\n",
        "from tensorflow.keras.models import Sequential\n",
        "from sklearn.metrics import confusion_matrix\n",
        "from tensorflow.keras.layers import LSTM, Dense, Dropout, TimeDistributed, Flatten\n",
        "\n",
        "def createLSTMModel():\n",
        "    model = Sequential()\n",
        "\n",
        "    # Flatten the image data for each timestep\n",
        "    model.add(TimeDistributed(Flatten(), input_shape=(SEQUENCE_LENGTH, IMG_SIZE, IMG_SIZE, 3)))\n",
        "\n",
        "    # LSTM layer directly processing flattened sequences\n",
        "    model.add(LSTM(64, return_sequences=False))\n",
        "\n",
        "    # Dense layers for classification\n",
        "    model.add(Dropout(0.5))\n",
        "    model.add(Dense(64, activation='relu'))\n",
        "    model.add(Dense(2, activation='softmax'))  # Output layer with 2 classes (real/fake)\n",
        "\n",
        "    model.compile(loss='categorical_crossentropy', optimizer='adam', metrics=['accuracy'])\n",
        "\n",
        "    return model\n",
        "\n",
        "# Assuming X_train, y_train are prepared\n",
        "model = createLSTMModel()\n",
        "model.summary()\n",
        "\n",
        "# Train the model\n",
        "history = model.fit(X_train, y_train, epochs=10, batch_size=32, validation_data=(X_test, y_test))\n",
        "\n",
        "# Make predictions\n",
        "y_pred = model.predict(X_test)\n",
        "y_pred_classes = y_pred.argmax(axis=-1)  # Convert predictions to class labels\n",
        "\n",
        "# Generate confusion matrix\n",
        "y_test_classes = y_test.argmax(axis=-1)  # Convert true labels to class labels\n",
        "cm = confusion_matrix(y_test_classes, y_pred_classes)\n",
        "\n",
        "# Visualize confusion matrix\n",
        "sns.heatmap(cm, annot=True, fmt='d', cmap='Blues', xticklabels=['Real', 'Fake'], yticklabels=['Real', 'Fake'])\n",
        "plt.xlabel('Predicted Labels')\n",
        "plt.ylabel('True Labels')\n",
        "plt.title('Confusion Matrix')\n",
        "plt.show()\n",
        "\n",
        "# Plot training & validation accuracy\n",
        "plt.plot(history.history['accuracy'], label='Train Accuracy')\n",
        "plt.plot(history.history['val_accuracy'], label='Validation Accuracy')\n",
        "plt.title('Model Accuracy')\n",
        "plt.xlabel('Epoch')\n",
        "plt.ylabel('Accuracy')\n",
        "plt.legend()\n",
        "plt.show()\n",
        "\n",
        "# Plot training & validation loss\n",
        "plt.plot(history.history['loss'], label='Train Loss')\n",
        "plt.plot(history.history['val_loss'], label='Validation Loss')\n",
        "plt.title('Model Loss')\n",
        "plt.xlabel('Epoch')\n",
        "plt.ylabel('Loss')\n",
        "plt.legend()\n",
        "plt.show()\n"
      ],
      "metadata": {
        "colab": {
          "base_uri": "https://localhost:8080/",
          "height": 1000
        },
        "id": "2Un7oANxuY-b",
        "outputId": "c5702696-b686-47eb-c769-8ad1fb7cd6fb"
      },
      "execution_count": 35,
      "outputs": [
        {
          "output_type": "display_data",
          "data": {
            "text/plain": [
              "\u001b[1mModel: \"sequential_8\"\u001b[0m\n"
            ],
            "text/html": [
              "<pre style=\"white-space:pre;overflow-x:auto;line-height:normal;font-family:Menlo,'DejaVu Sans Mono',consolas,'Courier New',monospace\"><span style=\"font-weight: bold\">Model: \"sequential_8\"</span>\n",
              "</pre>\n"
            ]
          },
          "metadata": {}
        },
        {
          "output_type": "display_data",
          "data": {
            "text/plain": [
              "┏━━━━━━━━━━━━━━━━━━━━━━━━━━━━━━━━━━━━━━┳━━━━━━━━━━━━━━━━━━━━━━━━━━━━━┳━━━━━━━━━━━━━━━━━┓\n",
              "┃\u001b[1m \u001b[0m\u001b[1mLayer (type)                        \u001b[0m\u001b[1m \u001b[0m┃\u001b[1m \u001b[0m\u001b[1mOutput Shape               \u001b[0m\u001b[1m \u001b[0m┃\u001b[1m \u001b[0m\u001b[1m        Param #\u001b[0m\u001b[1m \u001b[0m┃\n",
              "┡━━━━━━━━━━━━━━━━━━━━━━━━━━━━━━━━━━━━━━╇━━━━━━━━━━━━━━━━━━━━━━━━━━━━━╇━━━━━━━━━━━━━━━━━┩\n",
              "│ time_distributed_7 (\u001b[38;5;33mTimeDistributed\u001b[0m) │ (\u001b[38;5;45mNone\u001b[0m, \u001b[38;5;34m10\u001b[0m, \u001b[38;5;34m3072\u001b[0m)            │               \u001b[38;5;34m0\u001b[0m │\n",
              "├──────────────────────────────────────┼─────────────────────────────┼─────────────────┤\n",
              "│ lstm_8 (\u001b[38;5;33mLSTM\u001b[0m)                        │ (\u001b[38;5;45mNone\u001b[0m, \u001b[38;5;34m64\u001b[0m)                  │         \u001b[38;5;34m803,072\u001b[0m │\n",
              "├──────────────────────────────────────┼─────────────────────────────┼─────────────────┤\n",
              "│ dropout_8 (\u001b[38;5;33mDropout\u001b[0m)                  │ (\u001b[38;5;45mNone\u001b[0m, \u001b[38;5;34m64\u001b[0m)                  │               \u001b[38;5;34m0\u001b[0m │\n",
              "├──────────────────────────────────────┼─────────────────────────────┼─────────────────┤\n",
              "│ dense_16 (\u001b[38;5;33mDense\u001b[0m)                     │ (\u001b[38;5;45mNone\u001b[0m, \u001b[38;5;34m64\u001b[0m)                  │           \u001b[38;5;34m4,160\u001b[0m │\n",
              "├──────────────────────────────────────┼─────────────────────────────┼─────────────────┤\n",
              "│ dense_17 (\u001b[38;5;33mDense\u001b[0m)                     │ (\u001b[38;5;45mNone\u001b[0m, \u001b[38;5;34m2\u001b[0m)                   │             \u001b[38;5;34m130\u001b[0m │\n",
              "└──────────────────────────────────────┴─────────────────────────────┴─────────────────┘\n"
            ],
            "text/html": [
              "<pre style=\"white-space:pre;overflow-x:auto;line-height:normal;font-family:Menlo,'DejaVu Sans Mono',consolas,'Courier New',monospace\">┏━━━━━━━━━━━━━━━━━━━━━━━━━━━━━━━━━━━━━━┳━━━━━━━━━━━━━━━━━━━━━━━━━━━━━┳━━━━━━━━━━━━━━━━━┓\n",
              "┃<span style=\"font-weight: bold\"> Layer (type)                         </span>┃<span style=\"font-weight: bold\"> Output Shape                </span>┃<span style=\"font-weight: bold\">         Param # </span>┃\n",
              "┡━━━━━━━━━━━━━━━━━━━━━━━━━━━━━━━━━━━━━━╇━━━━━━━━━━━━━━━━━━━━━━━━━━━━━╇━━━━━━━━━━━━━━━━━┩\n",
              "│ time_distributed_7 (<span style=\"color: #0087ff; text-decoration-color: #0087ff\">TimeDistributed</span>) │ (<span style=\"color: #00d7ff; text-decoration-color: #00d7ff\">None</span>, <span style=\"color: #00af00; text-decoration-color: #00af00\">10</span>, <span style=\"color: #00af00; text-decoration-color: #00af00\">3072</span>)            │               <span style=\"color: #00af00; text-decoration-color: #00af00\">0</span> │\n",
              "├──────────────────────────────────────┼─────────────────────────────┼─────────────────┤\n",
              "│ lstm_8 (<span style=\"color: #0087ff; text-decoration-color: #0087ff\">LSTM</span>)                        │ (<span style=\"color: #00d7ff; text-decoration-color: #00d7ff\">None</span>, <span style=\"color: #00af00; text-decoration-color: #00af00\">64</span>)                  │         <span style=\"color: #00af00; text-decoration-color: #00af00\">803,072</span> │\n",
              "├──────────────────────────────────────┼─────────────────────────────┼─────────────────┤\n",
              "│ dropout_8 (<span style=\"color: #0087ff; text-decoration-color: #0087ff\">Dropout</span>)                  │ (<span style=\"color: #00d7ff; text-decoration-color: #00d7ff\">None</span>, <span style=\"color: #00af00; text-decoration-color: #00af00\">64</span>)                  │               <span style=\"color: #00af00; text-decoration-color: #00af00\">0</span> │\n",
              "├──────────────────────────────────────┼─────────────────────────────┼─────────────────┤\n",
              "│ dense_16 (<span style=\"color: #0087ff; text-decoration-color: #0087ff\">Dense</span>)                     │ (<span style=\"color: #00d7ff; text-decoration-color: #00d7ff\">None</span>, <span style=\"color: #00af00; text-decoration-color: #00af00\">64</span>)                  │           <span style=\"color: #00af00; text-decoration-color: #00af00\">4,160</span> │\n",
              "├──────────────────────────────────────┼─────────────────────────────┼─────────────────┤\n",
              "│ dense_17 (<span style=\"color: #0087ff; text-decoration-color: #0087ff\">Dense</span>)                     │ (<span style=\"color: #00d7ff; text-decoration-color: #00d7ff\">None</span>, <span style=\"color: #00af00; text-decoration-color: #00af00\">2</span>)                   │             <span style=\"color: #00af00; text-decoration-color: #00af00\">130</span> │\n",
              "└──────────────────────────────────────┴─────────────────────────────┴─────────────────┘\n",
              "</pre>\n"
            ]
          },
          "metadata": {}
        },
        {
          "output_type": "display_data",
          "data": {
            "text/plain": [
              "\u001b[1m Total params: \u001b[0m\u001b[38;5;34m807,362\u001b[0m (3.08 MB)\n"
            ],
            "text/html": [
              "<pre style=\"white-space:pre;overflow-x:auto;line-height:normal;font-family:Menlo,'DejaVu Sans Mono',consolas,'Courier New',monospace\"><span style=\"font-weight: bold\"> Total params: </span><span style=\"color: #00af00; text-decoration-color: #00af00\">807,362</span> (3.08 MB)\n",
              "</pre>\n"
            ]
          },
          "metadata": {}
        },
        {
          "output_type": "display_data",
          "data": {
            "text/plain": [
              "\u001b[1m Trainable params: \u001b[0m\u001b[38;5;34m807,362\u001b[0m (3.08 MB)\n"
            ],
            "text/html": [
              "<pre style=\"white-space:pre;overflow-x:auto;line-height:normal;font-family:Menlo,'DejaVu Sans Mono',consolas,'Courier New',monospace\"><span style=\"font-weight: bold\"> Trainable params: </span><span style=\"color: #00af00; text-decoration-color: #00af00\">807,362</span> (3.08 MB)\n",
              "</pre>\n"
            ]
          },
          "metadata": {}
        },
        {
          "output_type": "display_data",
          "data": {
            "text/plain": [
              "\u001b[1m Non-trainable params: \u001b[0m\u001b[38;5;34m0\u001b[0m (0.00 B)\n"
            ],
            "text/html": [
              "<pre style=\"white-space:pre;overflow-x:auto;line-height:normal;font-family:Menlo,'DejaVu Sans Mono',consolas,'Courier New',monospace\"><span style=\"font-weight: bold\"> Non-trainable params: </span><span style=\"color: #00af00; text-decoration-color: #00af00\">0</span> (0.00 B)\n",
              "</pre>\n"
            ]
          },
          "metadata": {}
        },
        {
          "output_type": "stream",
          "name": "stdout",
          "text": [
            "Epoch 1/10\n",
            "\u001b[1m86/86\u001b[0m \u001b[32m━━━━━━━━━━━━━━━━━━━━\u001b[0m\u001b[37m\u001b[0m \u001b[1m3s\u001b[0m 17ms/step - accuracy: 0.8840 - loss: 0.3578 - val_accuracy: 0.8861 - val_loss: 0.3640\n",
            "Epoch 2/10\n",
            "\u001b[1m86/86\u001b[0m \u001b[32m━━━━━━━━━━━━━━━━━━━━\u001b[0m\u001b[37m\u001b[0m \u001b[1m2s\u001b[0m 8ms/step - accuracy: 0.9010 - loss: 0.3386 - val_accuracy: 0.8861 - val_loss: 0.3569\n",
            "Epoch 3/10\n",
            "\u001b[1m86/86\u001b[0m \u001b[32m━━━━━━━━━━━━━━━━━━━━\u001b[0m\u001b[37m\u001b[0m \u001b[1m1s\u001b[0m 8ms/step - accuracy: 0.9016 - loss: 0.3286 - val_accuracy: 0.8861 - val_loss: 0.3715\n",
            "Epoch 4/10\n",
            "\u001b[1m86/86\u001b[0m \u001b[32m━━━━━━━━━━━━━━━━━━━━\u001b[0m\u001b[37m\u001b[0m \u001b[1m1s\u001b[0m 8ms/step - accuracy: 0.8906 - loss: 0.3596 - val_accuracy: 0.8861 - val_loss: 0.3659\n",
            "Epoch 5/10\n",
            "\u001b[1m86/86\u001b[0m \u001b[32m━━━━━━━━━━━━━━━━━━━━\u001b[0m\u001b[37m\u001b[0m \u001b[1m1s\u001b[0m 8ms/step - accuracy: 0.8922 - loss: 0.3465 - val_accuracy: 0.8861 - val_loss: 0.3556\n",
            "Epoch 6/10\n",
            "\u001b[1m86/86\u001b[0m \u001b[32m━━━━━━━━━━━━━━━━━━━━\u001b[0m\u001b[37m\u001b[0m \u001b[1m1s\u001b[0m 7ms/step - accuracy: 0.8898 - loss: 0.3594 - val_accuracy: 0.8861 - val_loss: 0.3605\n",
            "Epoch 7/10\n",
            "\u001b[1m86/86\u001b[0m \u001b[32m━━━━━━━━━━━━━━━━━━━━\u001b[0m\u001b[37m\u001b[0m \u001b[1m1s\u001b[0m 7ms/step - accuracy: 0.8936 - loss: 0.3427 - val_accuracy: 0.8861 - val_loss: 0.3548\n",
            "Epoch 8/10\n",
            "\u001b[1m86/86\u001b[0m \u001b[32m━━━━━━━━━━━━━━━━━━━━\u001b[0m\u001b[37m\u001b[0m \u001b[1m1s\u001b[0m 8ms/step - accuracy: 0.8977 - loss: 0.3347 - val_accuracy: 0.8861 - val_loss: 0.3631\n",
            "Epoch 9/10\n",
            "\u001b[1m86/86\u001b[0m \u001b[32m━━━━━━━━━━━━━━━━━━━━\u001b[0m\u001b[37m\u001b[0m \u001b[1m1s\u001b[0m 8ms/step - accuracy: 0.9008 - loss: 0.3275 - val_accuracy: 0.8861 - val_loss: 0.3566\n",
            "Epoch 10/10\n",
            "\u001b[1m86/86\u001b[0m \u001b[32m━━━━━━━━━━━━━━━━━━━━\u001b[0m\u001b[37m\u001b[0m \u001b[1m1s\u001b[0m 7ms/step - accuracy: 0.9024 - loss: 0.3274 - val_accuracy: 0.8861 - val_loss: 0.3614\n",
            "\u001b[1m22/22\u001b[0m \u001b[32m━━━━━━━━━━━━━━━━━━━━\u001b[0m\u001b[37m\u001b[0m \u001b[1m0s\u001b[0m 9ms/step\n"
          ]
        },
        {
          "output_type": "display_data",
          "data": {
            "text/plain": [
              "<Figure size 640x480 with 2 Axes>"
            ],
            "image/png": "[encoded data removed]"
          },
          "metadata": {}
        },
        {
          "output_type": "display_data",
          "data": {
            "text/plain": [
              "<Figure size 640x480 with 1 Axes>"
            ],
            "image/png": "[encoded data removed]"
          },
          "metadata": {}
        },
        {
          "output_type": "display_data",
          "data": {
            "text/plain": [
              "<Figure size 640x480 with 1 Axes>"
            ],
            "image/png": "[encoded data removed]"
          },
          "metadata": {}
        }
      ]
    },
    {
      "cell_type": "markdown",
      "source": [
        "print the classification report"
      ],
      "metadata": {
        "id": "V2EnXJR5LQ_5"
      }
    },
    {
      "cell_type": "code",
      "source": [
        "import numpy as np\n",
        "import cv2\n",
        "import matplotlib.pyplot as plt\n",
        "from sklearn.metrics import classification_report\n",
        "import tensorflow as tf\n",
        "\n",
        "print(model.input_shape)\n",
        "\n",
        "\n",
        "# ----------- Classify a single image extracted from a .mp4 video -----------\n",
        "def extract_frame_from_video(video_path, frame_number=0, img_size=(64, 64)):\n",
        "    \"\"\"\n",
        "    Extract a single frame from a video file at the specified frame number.\n",
        "    \"\"\"\n",
        "    cap = cv2.VideoCapture(video_path)\n",
        "    frame_count = int(cap.get(cv2.CAP_PROP_FRAME_COUNT))\n",
        "\n",
        "    # Check if the frame number is within the video range\n",
        "    if frame_number >= frame_count:\n",
        "        print(f\"Error: frame number {frame_number} exceeds the total number of frames in the video.\")\n",
        "        return None\n",
        "\n",
        "    # Read the frame at the specified frame number\n",
        "    cap.set(cv2.CAP_PROP_POS_FRAMES, frame_number)\n",
        "    ret, frame = cap.read()\n",
        "    cap.release()\n",
        "\n",
        "    if not ret:\n",
        "        print(\"Error: Failed to read frame from video.\")\n",
        "        return None\n",
        "\n",
        "    # Resize the frame to the desired size\n",
        "    frame = cv2.resize(frame, img_size)\n",
        "    frame = frame / 255.0  # Normalize the frame\n",
        "    return frame\n",
        "\n",
        "def classify_single_frame(video_path, frame_number=0):\n",
        "    \"\"\"\n",
        "    Classify a single frame extracted from the video.\n",
        "    \"\"\"\n",
        "    # Extract the frame from the video\n",
        "    frame = extract_frame_from_video(video_path, frame_number, img_size=(32, 32))  # Resize to match model input\n",
        "    if frame is None:\n",
        "        return\n",
        "\n",
        "    # Create a sequence of 10 identical frames\n",
        "    frame_sequence = np.expand_dims(frame, axis=0)  # Shape: (1, 32, 32, 3)\n",
        "    frame_sequence = np.repeat(frame_sequence, repeats=10, axis=0)  # Shape: (10, 32, 32, 3)\n",
        "    frame_sequence = np.expand_dims(frame_sequence, axis=0)  # Shape: (1, 10, 32, 32, 3)\n",
        "\n",
        "    # Predict the class for the frame sequence\n",
        "    prediction = model.predict(frame_sequence)\n",
        "    predicted_class = np.argmax(prediction, axis=-1)\n",
        "\n",
        "    # Map the predicted class to the corresponding label\n",
        "    class_labels = ['Real', 'Fake']\n",
        "    print(f\"Predicted class for the frame: {class_labels[predicted_class[0]]}\")\n",
        "    predicted_label = class_labels[predicted_class[0]]\n",
        "\n",
        "    # Show the frame\n",
        "    plt.imshow(frame)\n",
        "    plt.title(f\"Predicted: {class_labels[predicted_class[0]]}\")\n",
        "    plt.axis('off')\n",
        "    plt.show()\n",
        "\n",
        "    return predicted_class[0], predicted_label\n",
        "\n",
        "# Example usage: Classify a single frame extracted from a video\n",
        "video_path = 'download.mp4'  # Provide the path to a video file\n",
        "frame_numbers = [10, 20, 30, 40]  # List of frame numbers to extract and classify\n",
        "true_labels = [0, 1, 0, 1]  # Example ground truth (0: Real, 1: Fake)\n",
        "\n",
        "# List to store predicted labels\n",
        "predicted_labels = []\n",
        "\n",
        "# Classify each frame and collect predictions\n",
        "for frame_number, true_label in zip(frame_numbers, true_labels):\n",
        "    predicted_class, predicted_label = classify_single_frame(video_path, frame_number)\n",
        "    if predicted_class is not None:\n",
        "        predicted_labels.append(predicted_class)\n",
        "\n",
        "# Print classification report\n",
        "print(\"Classification Report:\")\n",
        "print(classification_report(true_labels, predicted_labels, target_names=['Real', 'Fake']))\n"
      ],
      "metadata": {
        "colab": {
          "base_uri": "https://localhost:8080/",
          "height": 1000
        },
        "id": "Kg83xU8wLSrR",
        "outputId": "ce365b68-9ad5-4183-8b4f-6c6c1062a937"
      },
      "execution_count": 46,
      "outputs": [
        {
          "output_type": "stream",
          "name": "stdout",
          "text": [
            "(None, 10, 32, 32, 3)\n",
            "\u001b[1m1/1\u001b[0m \u001b[32m━━━━━━━━━━━━━━━━━━━━\u001b[0m\u001b[37m\u001b[0m \u001b[1m0s\u001b[0m 30ms/step\n",
            "Predicted class for the frame: Fake\n"
          ]
        },
        {
          "output_type": "display_data",
          "data": {
            "text/plain": [
              "<Figure size 640x480 with 1 Axes>"
            ],
            "image/png": "[encoded data removed]"
          },
          "metadata": {}
        },
        {
          "output_type": "stream",
          "name": "stdout",
          "text": [
            "\u001b[1m1/1\u001b[0m \u001b[32m━━━━━━━━━━━━━━━━━━━━\u001b[0m\u001b[37m\u001b[0m \u001b[1m0s\u001b[0m 64ms/step\n",
            "Predicted class for the frame: Fake\n"
          ]
        },
        {
          "output_type": "display_data",
          "data": {
            "text/plain": [
              "<Figure size 640x480 with 1 Axes>"
            ],
            "image/png": "[encoded data removed]"
          },
          "metadata": {}
        },
        {
          "output_type": "stream",
          "name": "stdout",
          "text": [
            "\u001b[1m1/1\u001b[0m \u001b[32m━━━━━━━━━━━━━━━━━━━━\u001b[0m\u001b[37m\u001b[0m \u001b[1m0s\u001b[0m 25ms/step\n",
            "Predicted class for the frame: Fake\n"
          ]
        },
        {
          "output_type": "display_data",
          "data": {
            "text/plain": [
              "<Figure size 640x480 with 1 Axes>"
            ],
            "image/png": "[encoded data removed]"
          },
          "metadata": {}
        },
        {
          "output_type": "stream",
          "name": "stdout",
          "text": [
            "\u001b[1m1/1\u001b[0m \u001b[32m━━━━━━━━━━━━━━━━━━━━\u001b[0m\u001b[37m\u001b[0m \u001b[1m0s\u001b[0m 18ms/step\n",
            "Predicted class for the frame: Fake\n"
          ]
        },
        {
          "output_type": "display_data",
          "data": {
            "text/plain": [
              "<Figure size 640x480 with 1 Axes>"
            ],
            "image/png": "[encoded data removed]"
          },
          "metadata": {}
        },
        {
          "output_type": "stream",
          "name": "stdout",
          "text": [
            "Classification Report:\n",
            "              precision    recall  f1-score   support\n",
            "\n",
            "        Real       0.00      0.00      0.00         2\n",
            "        Fake       0.50      1.00      0.67         2\n",
            "\n",
            "    accuracy                           0.50         4\n",
            "   macro avg       0.25      0.50      0.33         4\n",
            "weighted avg       0.25      0.50      0.33         4\n",
            "\n"
          ]
        },
        {
          "output_type": "stream",
          "name": "stderr",
          "text": [
            "/usr/local/lib/python3.10/dist-packages/sklearn/metrics/_classification.py:1565: UndefinedMetricWarning: Precision is ill-defined and being set to 0.0 in labels with no predicted samples. Use `zero_division` parameter to control this behavior.\n",
            "  _warn_prf(average, modifier, f\"{metric.capitalize()} is\", len(result))\n",
            "/usr/local/lib/python3.10/dist-packages/sklearn/metrics/_classification.py:1565: UndefinedMetricWarning: Precision is ill-defined and being set to 0.0 in labels with no predicted samples. Use `zero_division` parameter to control this behavior.\n",
            "  _warn_prf(average, modifier, f\"{metric.capitalize()} is\", len(result))\n",
            "/usr/local/lib/python3.10/dist-packages/sklearn/metrics/_classification.py:1565: UndefinedMetricWarning: Precision is ill-defined and being set to 0.0 in labels with no predicted samples. Use `zero_division` parameter to control this behavior.\n",
            "  _warn_prf(average, modifier, f\"{metric.capitalize()} is\", len(result))\n"
          ]
        }
      ]
    },
    {
      "cell_type": "markdown",
      "source": [
        "train the model (does not change for either dataset)\n",
        "\n",
        "observation: the accuracy is much closer and the loss is very less for the .mp4 dataset than for the .png dataset"
      ],
      "metadata": {
        "id": "CED__07OuqiB"
      }
    },
    {
      "cell_type": "code",
      "source": [
        "# Training the model\n",
        "# BATCH_SIZE = 16\n",
        "# EPOCHS = 10\n",
        "\n",
        "# history = model.fit(\n",
        "#     X_train, y_train,\n",
        "#     validation_data=(X_test, y_test),\n",
        "#     batch_size=BATCH_SIZE,\n",
        "#     epochs=EPOCHS,\n",
        "#     verbose=1\n",
        "# )\n"
      ],
      "metadata": {
        "colab": {
          "base_uri": "https://localhost:8080/"
        },
        "id": "M5nBMzmWurcR",
        "outputId": "999b6276-8fb6-4a15-fa61-e288b14c5b45"
      },
      "execution_count": null,
      "outputs": [
        {
          "output_type": "stream",
          "name": "stdout",
          "text": [
            "Epoch 1/10\n",
            "\u001b[1m172/172\u001b[0m \u001b[32m━━━━━━━━━━━━━━━━━━━━\u001b[0m\u001b[37m\u001b[0m \u001b[1m84s\u001b[0m 454ms/step - accuracy: 0.8837 - loss: 0.3758 - val_accuracy: 0.8934 - val_loss: 0.3405\n",
            "Epoch 2/10\n",
            "\u001b[1m172/172\u001b[0m \u001b[32m━━━━━━━━━━━━━━━━━━━━\u001b[0m\u001b[37m\u001b[0m \u001b[1m76s\u001b[0m 445ms/step - accuracy: 0.8951 - loss: 0.3449 - val_accuracy: 0.8934 - val_loss: 0.3397\n",
            "Epoch 3/10\n",
            "\u001b[1m172/172\u001b[0m \u001b[32m━━━━━━━━━━━━━━━━━━━━\u001b[0m\u001b[37m\u001b[0m \u001b[1m87s\u001b[0m 473ms/step - accuracy: 0.9030 - loss: 0.3263 - val_accuracy: 0.8934 - val_loss: 0.3487\n",
            "Epoch 4/10\n",
            "\u001b[1m172/172\u001b[0m \u001b[32m━━━━━━━━━━━━━━━━━━━━\u001b[0m\u001b[37m\u001b[0m \u001b[1m75s\u001b[0m 437ms/step - accuracy: 0.9024 - loss: 0.3261 - val_accuracy: 0.8934 - val_loss: 0.3436\n",
            "Epoch 5/10\n",
            "\u001b[1m172/172\u001b[0m \u001b[32m━━━━━━━━━━━━━━━━━━━━\u001b[0m\u001b[37m\u001b[0m \u001b[1m75s\u001b[0m 437ms/step - accuracy: 0.8951 - loss: 0.3424 - val_accuracy: 0.8934 - val_loss: 0.3393\n",
            "Epoch 6/10\n",
            "\u001b[1m172/172\u001b[0m \u001b[32m━━━━━━━━━━━━━━━━━━━━\u001b[0m\u001b[37m\u001b[0m \u001b[1m84s\u001b[0m 489ms/step - accuracy: 0.8911 - loss: 0.3504 - val_accuracy: 0.8934 - val_loss: 0.3413\n",
            "Epoch 7/10\n",
            "\u001b[1m172/172\u001b[0m \u001b[32m━━━━━━━━━━━━━━━━━━━━\u001b[0m\u001b[37m\u001b[0m \u001b[1m76s\u001b[0m 442ms/step - accuracy: 0.9017 - loss: 0.3287 - val_accuracy: 0.8934 - val_loss: 0.3433\n",
            "Epoch 8/10\n",
            "\u001b[1m172/172\u001b[0m \u001b[32m━━━━━━━━━━━━━━━━━━━━\u001b[0m\u001b[37m\u001b[0m \u001b[1m82s\u001b[0m 441ms/step - accuracy: 0.8877 - loss: 0.3499 - val_accuracy: 0.8934 - val_loss: 0.3415\n",
            "Epoch 9/10\n",
            "\u001b[1m172/172\u001b[0m \u001b[32m━━━━━━━━━━━━━━━━━━━━\u001b[0m\u001b[37m\u001b[0m \u001b[1m82s\u001b[0m 441ms/step - accuracy: 0.8849 - loss: 0.3620 - val_accuracy: 0.8934 - val_loss: 0.3455\n",
            "Epoch 10/10\n",
            "\u001b[1m172/172\u001b[0m \u001b[32m━━━━━━━━━━━━━━━━━━━━\u001b[0m\u001b[37m\u001b[0m \u001b[1m82s\u001b[0m 477ms/step - accuracy: 0.8923 - loss: 0.3441 - val_accuracy: 0.8934 - val_loss: 0.3476\n"
          ]
        }
      ]
    },
    {
      "cell_type": "markdown",
      "source": [
        "evaluate the model on a test set (works for both models) --> make changes here"
      ],
      "metadata": {
        "id": "RqvH0cjXuuXl"
      }
    },
    {
      "cell_type": "code",
      "source": [
        "# Evaluate the model\n",
        "loss, accuracy = model.evaluate(X_test, y_test)\n",
        "print(f\"Test Loss: {loss}\")\n",
        "print(f\"Test Accuracy: {accuracy}\")\n"
      ],
      "metadata": {
        "colab": {
          "base_uri": "https://localhost:8080/"
        },
        "id": "n8Gjk5X9uwcO",
        "outputId": "b8467fd1-d339-450b-e814-5c4caf337390"
      },
      "execution_count": 37,
      "outputs": [
        {
          "output_type": "stream",
          "name": "stdout",
          "text": [
            "\u001b[1m22/22\u001b[0m \u001b[32m━━━━━━━━━━━━━━━━━━━━\u001b[0m\u001b[37m\u001b[0m \u001b[1m0s\u001b[0m 5ms/step - accuracy: 0.8928 - loss: 0.3491\n",
            "Test Loss: 0.3614266514778137\n",
            "Test Accuracy: 0.8861314058303833\n"
          ]
        }
      ]
    },
    {
      "cell_type": "markdown",
      "source": [
        "save the  model (.png dataset)"
      ],
      "metadata": {
        "id": "DIIR0uPcuyCP"
      }
    },
    {
      "cell_type": "code",
      "source": [
        "# Save the trained model\n",
        "MODEL_FILE = 'deepfake_lstm_model.h5'\n",
        "model.save(MODEL_FILE)\n",
        "print(f\"Model saved to '{MODEL_FILE}'\")\n"
      ],
      "metadata": {
        "colab": {
          "base_uri": "https://localhost:8080/"
        },
        "id": "BD7CogrAux1b",
        "outputId": "9b80f559-960d-4230-8b39-f150f4bb766a"
      },
      "execution_count": null,
      "outputs": [
        {
          "output_type": "stream",
          "name": "stderr",
          "text": [
            "WARNING:absl:You are saving your model as an HDF5 file via `model.save()` or `keras.saving.save_model(model)`. This file format is considered legacy. We recommend using instead the native Keras format, e.g. `model.save('my_model.keras')` or `keras.saving.save_model(model, 'my_model.keras')`. \n"
          ]
        },
        {
          "output_type": "stream",
          "name": "stdout",
          "text": [
            "Model saved to 'deepfake_lstm_model.h5'\n"
          ]
        }
      ]
    },
    {
      "cell_type": "markdown",
      "source": [
        "save the model (.mp4 dataset)"
      ],
      "metadata": {
        "id": "xhuNp6_DGZpB"
      }
    },
    {
      "cell_type": "code",
      "source": [
        "# Save the trained model\n",
        "MODEL_FILE = 'deepfake_lstm_model_videos.h5'\n",
        "model.save(MODEL_FILE)\n",
        "print(f\"Model saved to '{MODEL_FILE}'\")"
      ],
      "metadata": {
        "colab": {
          "base_uri": "https://localhost:8080/"
        },
        "id": "dsxVB3I7GabW",
        "outputId": "ff4c1d5a-4428-4524-fbd1-e0a6076b482a"
      },
      "execution_count": 38,
      "outputs": [
        {
          "output_type": "stream",
          "name": "stderr",
          "text": [
            "WARNING:absl:You are saving your model as an HDF5 file via `model.save()` or `keras.saving.save_model(model)`. This file format is considered legacy. We recommend using instead the native Keras format, e.g. `model.save('my_model.keras')` or `keras.saving.save_model(model, 'my_model.keras')`. \n"
          ]
        },
        {
          "output_type": "stream",
          "name": "stdout",
          "text": [
            "Model saved to 'deepfake_lstm_model_videos.h5'\n"
          ]
        }
      ]
    },
    {
      "cell_type": "markdown",
      "source": [
        "load the model (for future ref)"
      ],
      "metadata": {
        "id": "D5Pq1AMfu2ZQ"
      }
    },
    {
      "cell_type": "code",
      "source": [
        "from tensorflow.keras.models import load_model\n",
        "\n",
        "# Load the saved model\n",
        "model = load_model(MODEL_FILE)\n",
        "print(\"Model loaded successfully!\")\n",
        "\n",
        "# Make predictions\n",
        "predictions = model.predict(X_test)\n",
        "predicted_classes = tf.argmax(predictions, axis=1)\n",
        "print(predicted_classes)\n"
      ],
      "metadata": {
        "colab": {
          "base_uri": "https://localhost:8080/"
        },
        "id": "TGUDodrau2Eu",
        "outputId": "f5396917-ad8c-4cfe-fddf-fc9cfbcb3bcf"
      },
      "execution_count": 39,
      "outputs": [
        {
          "output_type": "stream",
          "name": "stderr",
          "text": [
            "WARNING:absl:Compiled the loaded model, but the compiled metrics have yet to be built. `model.compile_metrics` will be empty until you train or evaluate the model.\n"
          ]
        },
        {
          "output_type": "stream",
          "name": "stdout",
          "text": [
            "Model loaded successfully!\n",
            "\u001b[1m22/22\u001b[0m \u001b[32m━━━━━━━━━━━━━━━━━━━━\u001b[0m\u001b[37m\u001b[0m \u001b[1m0s\u001b[0m 10ms/step\n",
            "tf.Tensor(\n",
            "[1 1 1 1 1 1 1 1 1 1 1 1 1 1 1 1 1 1 1 1 1 1 1 1 1 1 1 1 1 1 1 1 1 1 1 1 1\n",
            " 1 1 1 1 1 1 1 1 1 1 1 1 1 1 1 1 1 1 1 1 1 1 1 1 1 1 1 1 1 1 1 1 1 1 1 1 1\n",
            " 1 1 1 1 1 1 1 1 1 1 1 1 1 1 1 1 1 1 1 1 1 1 1 1 1 1 1 1 1 1 1 1 1 1 1 1 1\n",
            " 1 1 1 1 1 1 1 1 1 1 1 1 1 1 1 1 1 1 1 1 1 1 1 1 1 1 1 1 1 1 1 1 1 1 1 1 1\n",
            " 1 1 1 1 1 1 1 1 1 1 1 1 1 1 1 1 1 1 1 1 1 1 1 1 1 1 1 1 1 1 1 1 1 1 1 1 1\n",
            " 1 1 1 1 1 1 1 1 1 1 1 1 1 1 1 1 1 1 1 1 1 1 1 1 1 1 1 1 1 1 1 1 1 1 1 1 1\n",
            " 1 1 1 1 1 1 1 1 1 1 1 1 1 1 1 1 1 1 1 1 1 1 1 1 1 1 1 1 1 1 1 1 1 1 1 1 1\n",
            " 1 1 1 1 1 1 1 1 1 1 1 1 1 1 1 1 1 1 1 1 1 1 1 1 1 1 1 1 1 1 1 1 1 1 1 1 1\n",
            " 1 1 1 1 1 1 1 1 1 1 1 1 1 1 1 1 1 1 1 1 1 1 1 1 1 1 1 1 1 1 1 1 1 1 1 1 1\n",
            " 1 1 1 1 1 1 1 1 1 1 1 1 1 1 1 1 1 1 1 1 1 1 1 1 1 1 1 1 1 1 1 1 1 1 1 1 1\n",
            " 1 1 1 1 1 1 1 1 1 1 1 1 1 1 1 1 1 1 1 1 1 1 1 1 1 1 1 1 1 1 1 1 1 1 1 1 1\n",
            " 1 1 1 1 1 1 1 1 1 1 1 1 1 1 1 1 1 1 1 1 1 1 1 1 1 1 1 1 1 1 1 1 1 1 1 1 1\n",
            " 1 1 1 1 1 1 1 1 1 1 1 1 1 1 1 1 1 1 1 1 1 1 1 1 1 1 1 1 1 1 1 1 1 1 1 1 1\n",
            " 1 1 1 1 1 1 1 1 1 1 1 1 1 1 1 1 1 1 1 1 1 1 1 1 1 1 1 1 1 1 1 1 1 1 1 1 1\n",
            " 1 1 1 1 1 1 1 1 1 1 1 1 1 1 1 1 1 1 1 1 1 1 1 1 1 1 1 1 1 1 1 1 1 1 1 1 1\n",
            " 1 1 1 1 1 1 1 1 1 1 1 1 1 1 1 1 1 1 1 1 1 1 1 1 1 1 1 1 1 1 1 1 1 1 1 1 1\n",
            " 1 1 1 1 1 1 1 1 1 1 1 1 1 1 1 1 1 1 1 1 1 1 1 1 1 1 1 1 1 1 1 1 1 1 1 1 1\n",
            " 1 1 1 1 1 1 1 1 1 1 1 1 1 1 1 1 1 1 1 1 1 1 1 1 1 1 1 1 1 1 1 1 1 1 1 1 1\n",
            " 1 1 1 1 1 1 1 1 1 1 1 1 1 1 1 1 1 1 1], shape=(685,), dtype=int64)\n"
          ]
        }
      ]
    },
    {
      "cell_type": "markdown",
      "source": [
        "testing the model:"
      ],
      "metadata": {
        "id": "CNhoElOyy0kd"
      }
    },
    {
      "cell_type": "markdown",
      "source": [
        "video preprocessing"
      ],
      "metadata": {
        "id": "o37Ajcnmy9IN"
      }
    },
    {
      "cell_type": "code",
      "source": [
        "import cv2\n",
        "import numpy as np\n",
        "\n",
        "# Parameters\n",
        "IMG_SIZE = 32 # Size to resize frames (must match training --> which was 32)\n",
        "SEQUENCE_LENGTH = 10  # Number of frames per sequence (must match training)\n",
        "\n",
        "# Function to preprocess a single frame\n",
        "def preprocess_frame(frame):\n",
        "    frame = cv2.resize(frame, (IMG_SIZE, IMG_SIZE))  # Resize to 128x128\n",
        "    frame = frame / 255.0  # Normalize pixel values to [0, 1]\n",
        "    return frame\n",
        "\n",
        "# Function to preprocess the video and create sequences\n",
        "def preprocess_video(video_path, sequence_length=SEQUENCE_LENGTH):\n",
        "    cap = cv2.VideoCapture(video_path)\n",
        "    frames = []\n",
        "\n",
        "    # Read frames from the video\n",
        "    while cap.isOpened():\n",
        "        ret, frame = cap.read()\n",
        "        if not ret:\n",
        "            break\n",
        "        frame = cv2.cvtColor(frame, cv2.COLOR_BGR2RGB)  # Convert to RGB\n",
        "        frames.append(preprocess_frame(frame))\n",
        "    cap.release()\n",
        "\n",
        "    # Convert the frames into sequences\n",
        "    frames = np.array(frames)\n",
        "    sequences = []\n",
        "    for i in range(0, len(frames) - sequence_length + 1, sequence_length):\n",
        "        sequences.append(frames[i:i + sequence_length])\n",
        "\n",
        "    return np.array(sequences)\n",
        "\n",
        "# Example: Preprocess the video\n",
        "test_video_path = \"download.mp4\"\n",
        "test_sequences = preprocess_video(test_video_path)\n",
        "print(f\"Test sequences shape: {test_sequences.shape}\")\n"
      ],
      "metadata": {
        "colab": {
          "base_uri": "https://localhost:8080/"
        },
        "id": "JKAjntM7y-g_",
        "outputId": "c959722c-2afd-4659-a2ef-719d3d636fcc"
      },
      "execution_count": 40,
      "outputs": [
        {
          "output_type": "stream",
          "name": "stdout",
          "text": [
            "Test sequences shape: (29, 10, 32, 32, 3)\n"
          ]
        }
      ]
    },
    {
      "cell_type": "markdown",
      "source": [
        "predict"
      ],
      "metadata": {
        "id": "WStF9yVSzOKX"
      }
    },
    {
      "cell_type": "code",
      "source": [
        "# Predict using the loaded model\n",
        "# predictions = model.predict(test_sequences)\n",
        "# print(test_sequences.shape)\n",
        "print(test_sequences.shape)\n",
        "# if test_sequences.size == 0:\n",
        "#     print(\"Error: Test sequences are empty!\")\n",
        "\n",
        "\n",
        "# Average the predictions across all sequences\n",
        "average_prediction = np.mean(predictions, axis=0)\n",
        "\n",
        "# Interpret the results\n",
        "if average_prediction[0] > average_prediction[1]:\n",
        "    print(\"The video is classified as REAL.\")\n",
        "else:\n",
        "    print(\"The video is classified as FAKE.\")\n",
        "\n",
        "# Optional: Print confidence scores\n",
        "print(f\"Confidence scores: REAL={average_prediction[0]:.2f}, FAKE={average_prediction[1]:.2f}\")\n"
      ],
      "metadata": {
        "colab": {
          "base_uri": "https://localhost:8080/"
        },
        "id": "ezxsyDngzPJm",
        "outputId": "c0216567-a9a2-4108-925e-a0d79707216b"
      },
      "execution_count": 41,
      "outputs": [
        {
          "output_type": "stream",
          "name": "stdout",
          "text": [
            "(29, 10, 32, 32, 3)\n",
            "The video is classified as FAKE.\n",
            "Confidence scores: REAL=0.15, FAKE=0.85\n"
          ]
        }
      ]
    },
    {
      "cell_type": "markdown",
      "source": [
        "# ADD Confusion Matrix, Classification Report, using Test Data single image (show image) input and classify it,  Use additional model (Only LSTM Model)"
      ],
      "metadata": {
        "id": "TXgG5QSGagPs"
      }
    }
  ]
}